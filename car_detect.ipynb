{
 "cells": [
  {
   "cell_type": "code",
   "execution_count": 5,
   "metadata": {},
   "outputs": [],
   "source": [
    "import pandas as pd\n",
    "import numpy as np\n",
    "import cv2\n",
    "import matplotlib.pyplot as plt\n",
    "\n",
    "from glob import glob\n",
    "\n",
    "import IPython.display as ipd\n",
    "from tqdm.notebook import tqdm\n",
    "\n",
    "import subprocess\n",
    "\n",
    "\n"
   ]
  },
  {
   "cell_type": "code",
   "execution_count": 6,
   "metadata": {},
   "outputs": [
    {
     "data": {
      "text/plain": [
       "<function destroyWindow>"
      ]
     },
     "execution_count": 6,
     "metadata": {},
     "output_type": "execute_result"
    },
    {
     "ename": "",
     "evalue": "",
     "output_type": "error",
     "traceback": [
      "\u001b[1;31mThe Kernel crashed while executing code in the the current cell or a previous cell. Please review the code in the cell(s) to identify a possible cause of the failure. Click <a href='https://aka.ms/vscodeJupyterKernelCrash'>here</a> for more info. View Jupyter <a href='command:jupyter.viewOutput'>log</a> for further details."
     ]
    }
   ],
   "source": [
    "# เปิดกล้องด้วย open cv\n",
    "import cv2\n",
    "cap = cv2.VideoCapture(0) #สั่งเปิดตัวกล้อง/VDO ระบุตัวกล้อง/VDO ใน ()\n",
    "\n",
    "while (True): #WhileLoop สั่งให้ทำงานตลอดเวลาตราบเท่าที่ยังไม่มีการกดออก\n",
    "        ret,frame = cap.read()\n",
    "        cv2.imshow('frame', frame)\n",
    "        if(cv2.waitKey(1) & 0xFF== ord('e')): #หยุดเมื่อกดปุ่ม q\n",
    "            break\n",
    "cap.release()\n",
    "cv2.destroyWindow\n",
    "\n",
    "#วิธีนี้จะสามารถเปิดภาพจากกล้องที่เรามีอยู่ได้ ผลลัพธ์จะได้ภาพจากกล้องโน๊ตบุค\n",
    "\n"
   ]
  },
  {
   "cell_type": "code",
   "execution_count": 4,
   "metadata": {},
   "outputs": [],
   "source": [
    "import cv2\n",
    "import numpy as np\n",
    " \n",
    "# Turn on Laptop's webcam\n",
    "cap = cv2.VideoCapture(0)\n",
    " \n",
    "while True:\n",
    "     \n",
    "    ret, frame = cap.read()\n",
    " \n",
    "    # Locate points of the documents\n",
    "    # or object which you want to transform\n",
    "    pts1 = np.float32([[33, 60], [14, 393],\n",
    "                       [513, 94], [602, 431]])\n",
    "\n",
    "    pts3 = np.float32([[138, 235], [197, 254],\n",
    "                       [205, 428], [148, 397]])\n",
    "\n",
    "    pts2 = np.float32([[0, 0], [400, 0],\n",
    "                       [0, 640], [400, 640]])\n",
    "     \n",
    "    # Apply Perspective Transform Algorithm\n",
    "    matrix = cv2.getPerspectiveTransform(pts1, pts2)\n",
    "    result = cv2.warpPerspective(frame, matrix, (500, 600))\n",
    "     \n",
    "    # Wrap the transformed image\n",
    "    cv2.imshow('frame', frame) # Initial Capture\n",
    "    cv2.imshow('frame1', result) # Transformed Capture\n",
    " \n",
    "    if cv2.waitKey(24) == 27:\n",
    "        break\n",
    " \n",
    "cap.release()\n",
    "cv2.destroyAllWindows()"
   ]
  },
  {
   "cell_type": "code",
   "execution_count": 2,
   "metadata": {},
   "outputs": [
    {
     "name": "stdout",
     "output_type": "stream",
     "text": [
      "Pressed 138 235\n",
      "Pressed 197 254\n",
      "Pressed 205 428\n",
      "Pressed 148 397\n"
     ]
    }
   ],
   "source": [
    "import numpy as np\n",
    "import cv2\n",
    " \n",
    "#Create the circle\n",
    "colour = (0,255,0)\n",
    "lineWidth = 3       #-1 will result in filled circle\n",
    "radius = 30\n",
    "point = (0,0)\n",
    " \n",
    "#function for detecting left mouse click\n",
    "def click(event, x,y, flags, param):\n",
    "    global point, pressed\n",
    "    if event == cv2.EVENT_LBUTTONDOWN:\n",
    "        print(\"Pressed\", x,y)\n",
    "        point = (x,y)\n",
    "         \n",
    "#event handler\n",
    "cv2.namedWindow(\"Frame\")      #must match the imshow 1st argument\n",
    "cv2.setMouseCallback(\"Frame\", click)\n",
    "     \n",
    " \n",
    " \n",
    "cap = cv2.VideoCapture(0)\n",
    " \n",
    "#Loop for video stream\n",
    "while (True):\n",
    "     \n",
    "    stream = cv2.waitKey(1)   #Load video every 1ms and to detect user entered key\n",
    "     \n",
    "    #Read from videoCapture stream and display\n",
    "    ret,frame = cap.read()\n",
    "    cv2.circle(frame, point,radius,colour,lineWidth)     #circle properties as arguments\n",
    "    frame = cv2.resize(frame, (0,0), fx=1, fy=1)  #this fx,fy value will be explained in post\n",
    "    cv2.imshow(\"Frame\", frame)\n",
    "     \n",
    "    if stream & 0XFF == ord('q'):  #If statement to stop loop,Letter 'q' is the escape key\n",
    "        break                      #get out of loop\n",
    "         \n",
    "cap.release()\n",
    "cv2.destroyAllWindows()\n"
   ]
  }
 ],
 "metadata": {
  "interpreter": {
   "hash": "7fa6bc62d8d244c6ba1ae5daa6580e98f1d20f3f32caa17ce9885738d762ff05"
  },
  "kernelspec": {
   "display_name": "Python 3.10.4 64-bit",
   "language": "python",
   "name": "python3"
  },
  "language_info": {
   "codemirror_mode": {
    "name": "ipython",
    "version": 3
   },
   "file_extension": ".py",
   "mimetype": "text/x-python",
   "name": "python",
   "nbconvert_exporter": "python",
   "pygments_lexer": "ipython3",
   "version": "3.10.4"
  },
  "orig_nbformat": 4
 },
 "nbformat": 4,
 "nbformat_minor": 2
}
